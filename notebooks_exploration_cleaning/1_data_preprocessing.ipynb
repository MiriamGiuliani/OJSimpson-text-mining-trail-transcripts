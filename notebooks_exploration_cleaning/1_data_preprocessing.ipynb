{
 "cells": [
  {
   "cell_type": "markdown",
   "metadata": {},
   "source": [
    "# Data pre-processing"
   ]
  },
  {
   "cell_type": "markdown",
   "metadata": {},
   "source": [
    "The main goal of this step is to import the data scraped from the website and pre-process it. This is achieved with the function ```preprocessing_transctipts_text()```, whose main steps are: \n",
    "\n",
    "- removing __html tags__\n",
    "- removing __blank lines__\n",
    "- __isolate the part of the transcript where people actually talk__ (i.e. text between the words _SUPERIOR COURT OF THE STATE OF CALIFORNIA_, present at the very beginning and at the end of each transcript) from the descriptive part, storing them in separate files\n",
    "- __eliminate spaces__ between different paragraphs of the part of the dialogs where the same person is talking\n",
    "- __isolate the person talking__ from the actual dialog; this is done by exploiting the fact that because of how the HTML file has been pre-processed, the name of the person talking has the # symbol before and it is followed by a colon (with regex this means isolating the following: ```re.search(r'\\#.*?\\: ', line)```)\n",
    "- __find the date and the time of the transcript__ (with regex) \n",
    "- __create a dataframe__ with the following columns: _person_ (person talking), _speach_ (part of the dialog told by the person), _date_ (date of the transcript), _time_ (timestamp of the transcript). The first row of such data frame should contain the descriptive part of the transcript in the _speach_ column, having the value _DESCRIPTION_ for the _person_ column)\n",
    "- manage the __witness questioning__, identifying the witness answering the questions -> SUBSTITUTE 'A: ' with the witness name. The name of the witness is retrieved by looking at particular formulas as _CALLED AS A WITNESS BY_, _THE WITNESS ON THE STAND AT THE TIME_, _HAVING BEEN PREVIOUSLY SWORN_, before the questioning. The names of all the witnesses of the transcript are stored in a list\n",
    "- manage the __attorney questioning__, identifying the attorney making questions -> SUBSTITUTE 'Q:' with the name of the attorney questioning.  The name of the witness is retrieved by looking at particular formulas as _CROSS-EXAMINATIONBY_, _DIRECT EXAMINATIONBY_,_CROSS-EXAMINATION \\(RESUMED\\)BY_, _DIRECT EXAMINATION \\(RESUMED\\)BY_, before the questioning.\n",
    "\n",
    "More details about this can be found in the report. \n",
    "\n",
    "\n",
    "__Note__: I am aware that the function is not as efficient as it could be, but the data was very dirty and I didn't have much time. I spent a lot of nighttime hours writing this, so be kind and appreciate the effort.\n",
    "As someone once said, _the plural of regex is regrets_, if you know, you know :)"
   ]
  },
  {
   "cell_type": "code",
   "execution_count": 1,
   "metadata": {},
   "outputs": [],
   "source": [
    "import re\n",
    "import pandas as pd\n",
    "import os\n",
    "import fnmatch\n",
    "from nb_exploration_cleaning import remove_html_tags, preprocessing_transctipts_text"
   ]
  },
  {
   "cell_type": "code",
   "execution_count": 4,
   "metadata": {},
   "outputs": [
    {
     "data": {
      "text/html": [
       "<div>\n",
       "<style scoped>\n",
       "    .dataframe tbody tr th:only-of-type {\n",
       "        vertical-align: middle;\n",
       "    }\n",
       "\n",
       "    .dataframe tbody tr th {\n",
       "        vertical-align: top;\n",
       "    }\n",
       "\n",
       "    .dataframe thead th {\n",
       "        text-align: right;\n",
       "    }\n",
       "</style>\n",
       "<table border=\"1\" class=\"dataframe\">\n",
       "  <thead>\n",
       "    <tr style=\"text-align: right;\">\n",
       "      <th></th>\n",
       "      <th>person</th>\n",
       "      <th>speech</th>\n",
       "      <th>date</th>\n",
       "      <th>time</th>\n",
       "    </tr>\n",
       "  </thead>\n",
       "  <tbody>\n",
       "    <tr>\n",
       "      <th>0</th>\n",
       "      <td>0</td>\n",
       "      <td>0</td>\n",
       "      <td>0</td>\n",
       "      <td>0</td>\n",
       "    </tr>\n",
       "  </tbody>\n",
       "</table>\n",
       "</div>"
      ],
      "text/plain": [
       "   person  speech  date  time\n",
       "0       0       0     0     0"
      ]
     },
     "execution_count": 4,
     "metadata": {},
     "output_type": "execute_result"
    }
   ],
   "source": [
    "# Create the scheleton of the data frame\n",
    "mydict = {'person': [0], 'speech': [0],  'date': [0], 'time': [0]}\n",
    "df = pd.DataFrame(mydict)\n",
    "df"
   ]
  },
  {
   "cell_type": "code",
   "execution_count": 6,
   "metadata": {},
   "outputs": [
    {
     "name": "stdout",
     "output_type": "stream",
     "text": [
      "jan11.html.txt\n",
      "jan12.html.txt\n",
      "jan13.html.txt\n",
      "jan23.html.txt\n",
      "jan24.html.txt\n",
      "jan25.html.txt\n",
      "jan26.html.txt\n",
      "jan30.html.txt\n",
      "jan31.html.txt\n"
     ]
    }
   ],
   "source": [
    "directory = os.getcwd() # this should be the same directory where you stored the txt files obtained through scraping\n",
    "df_preprocessed = preprocessing_transctipts_text(directory, df)"
   ]
  },
  {
   "cell_type": "code",
   "execution_count": 7,
   "metadata": {},
   "outputs": [
    {
     "data": {
      "text/html": [
       "<div>\n",
       "<style scoped>\n",
       "    .dataframe tbody tr th:only-of-type {\n",
       "        vertical-align: middle;\n",
       "    }\n",
       "\n",
       "    .dataframe tbody tr th {\n",
       "        vertical-align: top;\n",
       "    }\n",
       "\n",
       "    .dataframe thead th {\n",
       "        text-align: right;\n",
       "    }\n",
       "</style>\n",
       "<table border=\"1\" class=\"dataframe\">\n",
       "  <thead>\n",
       "    <tr style=\"text-align: right;\">\n",
       "      <th></th>\n",
       "      <th>person</th>\n",
       "      <th>speech</th>\n",
       "      <th>date</th>\n",
       "      <th>time</th>\n",
       "    </tr>\n",
       "  </thead>\n",
       "  <tbody>\n",
       "    <tr>\n",
       "      <th>1500</th>\n",
       "      <td>#MS. CLARK:</td>\n",
       "      <td>I'M SORRY. I COULDN'T HEAR THE COURT.\\n</td>\n",
       "      <td>JANUARY 13, 1995</td>\n",
       "      <td>9:17 A.M.</td>\n",
       "    </tr>\n",
       "    <tr>\n",
       "      <th>1501</th>\n",
       "      <td>#THE COURT:</td>\n",
       "      <td>I'LL BE HERE TUESDAY IF ANYTHING COMES UP.\\n</td>\n",
       "      <td>JANUARY 13, 1995</td>\n",
       "      <td>9:17 A.M.</td>\n",
       "    </tr>\n",
       "    <tr>\n",
       "      <th>1502</th>\n",
       "      <td>#MR. COCHRAN:</td>\n",
       "      <td>WE'RE NOT DUE IN COURT ON TUESDAY? EXPECT THE ...</td>\n",
       "      <td>JANUARY 13, 1995</td>\n",
       "      <td>9:17 A.M.</td>\n",
       "    </tr>\n",
       "    <tr>\n",
       "      <th>1503</th>\n",
       "      <td>#MS. CLARK:</td>\n",
       "      <td>WHAT ABOUT THE WALK THROUGH?\\n</td>\n",
       "      <td>JANUARY 13, 1995</td>\n",
       "      <td>9:17 A.M.</td>\n",
       "    </tr>\n",
       "    <tr>\n",
       "      <th>1504</th>\n",
       "      <td>#THE COURT:</td>\n",
       "      <td>WE HAVE -- WE'LL HAVE THE SET UP PHYSICALLY TO...</td>\n",
       "      <td>JANUARY 13, 1995</td>\n",
       "      <td>9:17 A.M.</td>\n",
       "    </tr>\n",
       "    <tr>\n",
       "      <th>...</th>\n",
       "      <td>...</td>\n",
       "      <td>...</td>\n",
       "      <td>...</td>\n",
       "      <td>...</td>\n",
       "    </tr>\n",
       "    <tr>\n",
       "      <th>1595</th>\n",
       "      <td>#MS. CLARK:</td>\n",
       "      <td>LET ME JUST MAKE SURE, YOUR HONOR.\\n</td>\n",
       "      <td>JANUARY 23, 1995</td>\n",
       "      <td>9:21 A.M.</td>\n",
       "    </tr>\n",
       "    <tr>\n",
       "      <th>1596</th>\n",
       "      <td>#THE COURT:</td>\n",
       "      <td>ALL RIGHT. COUNSEL, IS THERE ANY PARTICULAR RE...</td>\n",
       "      <td>JANUARY 23, 1995</td>\n",
       "      <td>9:21 A.M.</td>\n",
       "    </tr>\n",
       "    <tr>\n",
       "      <th>1597</th>\n",
       "      <td>#MS. CLARK:</td>\n",
       "      <td>NOT THAT I KNOW OF.\\n</td>\n",
       "      <td>JANUARY 23, 1995</td>\n",
       "      <td>9:21 A.M.</td>\n",
       "    </tr>\n",
       "    <tr>\n",
       "      <th>1598</th>\n",
       "      <td>#THE COURT:</td>\n",
       "      <td>352 OBJECTION ESSENTIALLY.\\n</td>\n",
       "      <td>JANUARY 23, 1995</td>\n",
       "      <td>9:21 A.M.</td>\n",
       "    </tr>\n",
       "    <tr>\n",
       "      <th>1599</th>\n",
       "      <td>#MS. CLARK:</td>\n",
       "      <td>ALL RIGHT.\\n</td>\n",
       "      <td>JANUARY 23, 1995</td>\n",
       "      <td>9:21 A.M.</td>\n",
       "    </tr>\n",
       "  </tbody>\n",
       "</table>\n",
       "<p>100 rows × 4 columns</p>\n",
       "</div>"
      ],
      "text/plain": [
       "              person                                             speech  \\\n",
       "1500    #MS. CLARK:             I'M SORRY. I COULDN'T HEAR THE COURT.\\n   \n",
       "1501    #THE COURT:        I'LL BE HERE TUESDAY IF ANYTHING COMES UP.\\n   \n",
       "1502  #MR. COCHRAN:   WE'RE NOT DUE IN COURT ON TUESDAY? EXPECT THE ...   \n",
       "1503    #MS. CLARK:                      WHAT ABOUT THE WALK THROUGH?\\n   \n",
       "1504    #THE COURT:   WE HAVE -- WE'LL HAVE THE SET UP PHYSICALLY TO...   \n",
       "...              ...                                                ...   \n",
       "1595    #MS. CLARK:                LET ME JUST MAKE SURE, YOUR HONOR.\\n   \n",
       "1596    #THE COURT:   ALL RIGHT. COUNSEL, IS THERE ANY PARTICULAR RE...   \n",
       "1597    #MS. CLARK:                               NOT THAT I KNOW OF.\\n   \n",
       "1598    #THE COURT:                        352 OBJECTION ESSENTIALLY.\\n   \n",
       "1599    #MS. CLARK:                                        ALL RIGHT.\\n   \n",
       "\n",
       "                   date       time  \n",
       "1500  JANUARY 13, 1995   9:17 A.M.  \n",
       "1501  JANUARY 13, 1995   9:17 A.M.  \n",
       "1502  JANUARY 13, 1995   9:17 A.M.  \n",
       "1503  JANUARY 13, 1995   9:17 A.M.  \n",
       "1504  JANUARY 13, 1995   9:17 A.M.  \n",
       "...                 ...        ...  \n",
       "1595  JANUARY 23, 1995   9:21 A.M.  \n",
       "1596  JANUARY 23, 1995   9:21 A.M.  \n",
       "1597  JANUARY 23, 1995   9:21 A.M.  \n",
       "1598  JANUARY 23, 1995   9:21 A.M.  \n",
       "1599  JANUARY 23, 1995   9:21 A.M.  \n",
       "\n",
       "[100 rows x 4 columns]"
      ]
     },
     "execution_count": 7,
     "metadata": {},
     "output_type": "execute_result"
    }
   ],
   "source": [
    "# Sample of the final data set\n",
    "df_preprocessed.iloc[1500:1600,:]"
   ]
  },
  {
   "cell_type": "code",
   "execution_count": 8,
   "metadata": {},
   "outputs": [],
   "source": [
    "# Save the result in a data frame\n",
    "df_preprocessed.to_csv('January.csv', index = False )"
   ]
  },
  {
   "cell_type": "code",
   "execution_count": 9,
   "metadata": {},
   "outputs": [
    {
     "name": "stdout",
     "output_type": "stream",
     "text": [
      "no\n"
     ]
    }
   ],
   "source": [
    "# Final check (optional): are there still some lines where the attorney / the witness has not been identified? \n",
    "if df_preprocessed['person'].str.contains('#A:').any(): # check for '#Q' for attorneys\n",
    "    print('yes')\n",
    "else:\n",
    "    print('no')"
   ]
  }
 ],
 "metadata": {
  "celltoolbar": "Raw Cell Format",
  "interpreter": {
   "hash": "72cf7670dc092630df60de9903f582c8b72932f48b23b3a11c782c6b6b437cc5"
  },
  "kernelspec": {
   "display_name": "Python 3.8.1 32-bit",
   "language": "python",
   "name": "python3"
  },
  "language_info": {
   "codemirror_mode": {
    "name": "ipython",
    "version": 3
   },
   "file_extension": ".py",
   "mimetype": "text/x-python",
   "name": "python",
   "nbconvert_exporter": "python",
   "pygments_lexer": "ipython3",
   "version": "3.8.1"
  },
  "metadata": {
   "interpreter": {
    "hash": "72cf7670dc092630df60de9903f582c8b72932f48b23b3a11c782c6b6b437cc5"
   }
  }
 },
 "nbformat": 4,
 "nbformat_minor": 4
}
